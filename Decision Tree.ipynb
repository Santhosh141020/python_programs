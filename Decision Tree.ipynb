{
 "cells": [
  {
   "cell_type": "code",
   "execution_count": 1,
   "id": "occupational-craps",
   "metadata": {},
   "outputs": [
    {
     "data": {
      "text/plain": [
       "'Index :\\n0 - Extremely Weak\\n1 - Weak\\n2 - Normal\\n3 - Overweight\\n4 - Obesity\\n5 - Extreme Obesity\\n\\nhieght in cm\\nweight in kilogram'"
      ]
     },
     "execution_count": 1,
     "metadata": {},
     "output_type": "execute_result"
    }
   ],
   "source": [
    "'''Index :\n",
    "0 - Extremely Weak\n",
    "1 - Weak\n",
    "2 - Normal\n",
    "3 - Overweight\n",
    "4 - Obesity\n",
    "5 - Extreme Obesity\n",
    "\n",
    "hieght in cm\n",
    "weight in kilogram'''"
   ]
  },
  {
   "cell_type": "code",
   "execution_count": 2,
   "id": "underlying-barrier",
   "metadata": {},
   "outputs": [],
   "source": [
    "import pandas as pd\n",
    "from sklearn import tree\n",
    "from sklearn.metrics import accuracy_score\n",
    "from matplotlib import pyplot as plt"
   ]
  },
  {
   "cell_type": "code",
   "execution_count": 3,
   "id": "settled-atlanta",
   "metadata": {},
   "outputs": [],
   "source": [
    "dat =pd.read_csv(\"500_Person_Gender_Height_Weight_Index.csv\")"
   ]
  },
  {
   "cell_type": "code",
   "execution_count": 4,
   "id": "manual-mustang",
   "metadata": {},
   "outputs": [
    {
     "name": "stdout",
     "output_type": "stream",
     "text": [
      "<class 'pandas.core.frame.DataFrame'>\n",
      "RangeIndex: 500 entries, 0 to 499\n",
      "Data columns (total 4 columns):\n",
      " #   Column  Non-Null Count  Dtype \n",
      "---  ------  --------------  ----- \n",
      " 0   Gender  500 non-null    object\n",
      " 1   Height  500 non-null    int64 \n",
      " 2   Weight  500 non-null    int64 \n",
      " 3   Index   500 non-null    int64 \n",
      "dtypes: int64(3), object(1)\n",
      "memory usage: 15.8+ KB\n"
     ]
    }
   ],
   "source": [
    "dat.info()"
   ]
  },
  {
   "cell_type": "code",
   "execution_count": 5,
   "id": "allied-treat",
   "metadata": {},
   "outputs": [
    {
     "data": {
      "text/html": [
       "<div>\n",
       "<style scoped>\n",
       "    .dataframe tbody tr th:only-of-type {\n",
       "        vertical-align: middle;\n",
       "    }\n",
       "\n",
       "    .dataframe tbody tr th {\n",
       "        vertical-align: top;\n",
       "    }\n",
       "\n",
       "    .dataframe thead th {\n",
       "        text-align: right;\n",
       "    }\n",
       "</style>\n",
       "<table border=\"1\" class=\"dataframe\">\n",
       "  <thead>\n",
       "    <tr style=\"text-align: right;\">\n",
       "      <th></th>\n",
       "      <th>Gender</th>\n",
       "      <th>Height</th>\n",
       "      <th>Weight</th>\n",
       "      <th>Index</th>\n",
       "    </tr>\n",
       "  </thead>\n",
       "  <tbody>\n",
       "    <tr>\n",
       "      <th>0</th>\n",
       "      <td>Male</td>\n",
       "      <td>174</td>\n",
       "      <td>96</td>\n",
       "      <td>4</td>\n",
       "    </tr>\n",
       "    <tr>\n",
       "      <th>1</th>\n",
       "      <td>Male</td>\n",
       "      <td>189</td>\n",
       "      <td>87</td>\n",
       "      <td>2</td>\n",
       "    </tr>\n",
       "    <tr>\n",
       "      <th>2</th>\n",
       "      <td>Female</td>\n",
       "      <td>185</td>\n",
       "      <td>110</td>\n",
       "      <td>4</td>\n",
       "    </tr>\n",
       "    <tr>\n",
       "      <th>3</th>\n",
       "      <td>Female</td>\n",
       "      <td>195</td>\n",
       "      <td>104</td>\n",
       "      <td>3</td>\n",
       "    </tr>\n",
       "    <tr>\n",
       "      <th>4</th>\n",
       "      <td>Male</td>\n",
       "      <td>149</td>\n",
       "      <td>61</td>\n",
       "      <td>3</td>\n",
       "    </tr>\n",
       "  </tbody>\n",
       "</table>\n",
       "</div>"
      ],
      "text/plain": [
       "   Gender  Height  Weight  Index\n",
       "0    Male     174      96      4\n",
       "1    Male     189      87      2\n",
       "2  Female     185     110      4\n",
       "3  Female     195     104      3\n",
       "4    Male     149      61      3"
      ]
     },
     "execution_count": 5,
     "metadata": {},
     "output_type": "execute_result"
    }
   ],
   "source": [
    "dat.head()"
   ]
  },
  {
   "cell_type": "code",
   "execution_count": 6,
   "id": "contemporary-opinion",
   "metadata": {},
   "outputs": [
    {
     "data": {
      "text/plain": [
       "140"
      ]
     },
     "execution_count": 6,
     "metadata": {},
     "output_type": "execute_result"
    }
   ],
   "source": [
    "dat.Height.min()"
   ]
  },
  {
   "cell_type": "code",
   "execution_count": 7,
   "id": "chronic-citizenship",
   "metadata": {},
   "outputs": [
    {
     "data": {
      "text/plain": [
       "199"
      ]
     },
     "execution_count": 7,
     "metadata": {},
     "output_type": "execute_result"
    }
   ],
   "source": [
    "dat.Height.max()"
   ]
  },
  {
   "cell_type": "code",
   "execution_count": 8,
   "id": "endangered-arrest",
   "metadata": {},
   "outputs": [
    {
     "data": {
      "text/plain": [
       "50"
      ]
     },
     "execution_count": 8,
     "metadata": {},
     "output_type": "execute_result"
    }
   ],
   "source": [
    "dat.Weight.min()"
   ]
  },
  {
   "cell_type": "code",
   "execution_count": 9,
   "id": "loaded-reasoning",
   "metadata": {},
   "outputs": [
    {
     "data": {
      "text/plain": [
       "160"
      ]
     },
     "execution_count": 9,
     "metadata": {},
     "output_type": "execute_result"
    }
   ],
   "source": [
    "dat.Weight.max()"
   ]
  },
  {
   "cell_type": "code",
   "execution_count": 10,
   "id": "opened-stupid",
   "metadata": {},
   "outputs": [
    {
     "data": {
      "text/plain": [
       "numpy.int64"
      ]
     },
     "execution_count": 10,
     "metadata": {},
     "output_type": "execute_result"
    }
   ],
   "source": [
    "type(dat.Weight.count())"
   ]
  },
  {
   "cell_type": "code",
   "execution_count": 11,
   "id": "decent-restoration",
   "metadata": {},
   "outputs": [],
   "source": [
    "dat1=dat"
   ]
  },
  {
   "cell_type": "code",
   "execution_count": 12,
   "id": "pending-ministry",
   "metadata": {},
   "outputs": [],
   "source": [
    "for i in range(0,dat.Weight.count()):\n",
    "    if dat.Weight[i]>=120:\n",
    "        dat1 =dat1.drop(index=i)\n",
    "    "
   ]
  },
  {
   "cell_type": "code",
   "execution_count": 13,
   "id": "known-tanzania",
   "metadata": {},
   "outputs": [
    {
     "data": {
      "text/html": [
       "<div>\n",
       "<style scoped>\n",
       "    .dataframe tbody tr th:only-of-type {\n",
       "        vertical-align: middle;\n",
       "    }\n",
       "\n",
       "    .dataframe tbody tr th {\n",
       "        vertical-align: top;\n",
       "    }\n",
       "\n",
       "    .dataframe thead th {\n",
       "        text-align: right;\n",
       "    }\n",
       "</style>\n",
       "<table border=\"1\" class=\"dataframe\">\n",
       "  <thead>\n",
       "    <tr style=\"text-align: right;\">\n",
       "      <th></th>\n",
       "      <th>Gender</th>\n",
       "      <th>Height</th>\n",
       "      <th>Weight</th>\n",
       "      <th>Index</th>\n",
       "    </tr>\n",
       "  </thead>\n",
       "  <tbody>\n",
       "    <tr>\n",
       "      <th>0</th>\n",
       "      <td>Male</td>\n",
       "      <td>174</td>\n",
       "      <td>96</td>\n",
       "      <td>4</td>\n",
       "    </tr>\n",
       "    <tr>\n",
       "      <th>1</th>\n",
       "      <td>Male</td>\n",
       "      <td>189</td>\n",
       "      <td>87</td>\n",
       "      <td>2</td>\n",
       "    </tr>\n",
       "    <tr>\n",
       "      <th>2</th>\n",
       "      <td>Female</td>\n",
       "      <td>185</td>\n",
       "      <td>110</td>\n",
       "      <td>4</td>\n",
       "    </tr>\n",
       "    <tr>\n",
       "      <th>3</th>\n",
       "      <td>Female</td>\n",
       "      <td>195</td>\n",
       "      <td>104</td>\n",
       "      <td>3</td>\n",
       "    </tr>\n",
       "    <tr>\n",
       "      <th>4</th>\n",
       "      <td>Male</td>\n",
       "      <td>149</td>\n",
       "      <td>61</td>\n",
       "      <td>3</td>\n",
       "    </tr>\n",
       "  </tbody>\n",
       "</table>\n",
       "</div>"
      ],
      "text/plain": [
       "   Gender  Height  Weight  Index\n",
       "0    Male     174      96      4\n",
       "1    Male     189      87      2\n",
       "2  Female     185     110      4\n",
       "3  Female     195     104      3\n",
       "4    Male     149      61      3"
      ]
     },
     "execution_count": 13,
     "metadata": {},
     "output_type": "execute_result"
    }
   ],
   "source": [
    "dat1.head()"
   ]
  },
  {
   "cell_type": "code",
   "execution_count": 14,
   "id": "earned-panama",
   "metadata": {},
   "outputs": [
    {
     "data": {
      "text/plain": [
       "Gender    312\n",
       "Height    312\n",
       "Weight    312\n",
       "Index     312\n",
       "dtype: int64"
      ]
     },
     "execution_count": 14,
     "metadata": {},
     "output_type": "execute_result"
    }
   ],
   "source": [
    "dat1.count()"
   ]
  },
  {
   "cell_type": "code",
   "execution_count": 15,
   "id": "searching-commodity",
   "metadata": {},
   "outputs": [],
   "source": [
    "# Male = 0, Female = 1\n",
    "gender= {\"Male\": 0, \"Female\":1}\n"
   ]
  },
  {
   "cell_type": "code",
   "execution_count": 16,
   "id": "israeli-force",
   "metadata": {},
   "outputs": [],
   "source": [
    "dat.Gender=[gender[item] for item in dat.Gender]"
   ]
  },
  {
   "cell_type": "code",
   "execution_count": 17,
   "id": "coordinate-footwear",
   "metadata": {},
   "outputs": [
    {
     "data": {
      "text/html": [
       "<div>\n",
       "<style scoped>\n",
       "    .dataframe tbody tr th:only-of-type {\n",
       "        vertical-align: middle;\n",
       "    }\n",
       "\n",
       "    .dataframe tbody tr th {\n",
       "        vertical-align: top;\n",
       "    }\n",
       "\n",
       "    .dataframe thead th {\n",
       "        text-align: right;\n",
       "    }\n",
       "</style>\n",
       "<table border=\"1\" class=\"dataframe\">\n",
       "  <thead>\n",
       "    <tr style=\"text-align: right;\">\n",
       "      <th></th>\n",
       "      <th>Gender</th>\n",
       "      <th>Height</th>\n",
       "      <th>Weight</th>\n",
       "      <th>Index</th>\n",
       "    </tr>\n",
       "  </thead>\n",
       "  <tbody>\n",
       "    <tr>\n",
       "      <th>0</th>\n",
       "      <td>0</td>\n",
       "      <td>174</td>\n",
       "      <td>96</td>\n",
       "      <td>4</td>\n",
       "    </tr>\n",
       "    <tr>\n",
       "      <th>1</th>\n",
       "      <td>0</td>\n",
       "      <td>189</td>\n",
       "      <td>87</td>\n",
       "      <td>2</td>\n",
       "    </tr>\n",
       "    <tr>\n",
       "      <th>2</th>\n",
       "      <td>1</td>\n",
       "      <td>185</td>\n",
       "      <td>110</td>\n",
       "      <td>4</td>\n",
       "    </tr>\n",
       "    <tr>\n",
       "      <th>3</th>\n",
       "      <td>1</td>\n",
       "      <td>195</td>\n",
       "      <td>104</td>\n",
       "      <td>3</td>\n",
       "    </tr>\n",
       "    <tr>\n",
       "      <th>4</th>\n",
       "      <td>0</td>\n",
       "      <td>149</td>\n",
       "      <td>61</td>\n",
       "      <td>3</td>\n",
       "    </tr>\n",
       "  </tbody>\n",
       "</table>\n",
       "</div>"
      ],
      "text/plain": [
       "   Gender  Height  Weight  Index\n",
       "0       0     174      96      4\n",
       "1       0     189      87      2\n",
       "2       1     185     110      4\n",
       "3       1     195     104      3\n",
       "4       0     149      61      3"
      ]
     },
     "execution_count": 17,
     "metadata": {},
     "output_type": "execute_result"
    }
   ],
   "source": [
    "dat.head()"
   ]
  },
  {
   "cell_type": "code",
   "execution_count": 18,
   "id": "instructional-aaron",
   "metadata": {},
   "outputs": [],
   "source": [
    "x=dat.drop(\"Index\", axis =1)"
   ]
  },
  {
   "cell_type": "code",
   "execution_count": 19,
   "id": "biological-craps",
   "metadata": {},
   "outputs": [
    {
     "data": {
      "text/html": [
       "<div>\n",
       "<style scoped>\n",
       "    .dataframe tbody tr th:only-of-type {\n",
       "        vertical-align: middle;\n",
       "    }\n",
       "\n",
       "    .dataframe tbody tr th {\n",
       "        vertical-align: top;\n",
       "    }\n",
       "\n",
       "    .dataframe thead th {\n",
       "        text-align: right;\n",
       "    }\n",
       "</style>\n",
       "<table border=\"1\" class=\"dataframe\">\n",
       "  <thead>\n",
       "    <tr style=\"text-align: right;\">\n",
       "      <th></th>\n",
       "      <th>Gender</th>\n",
       "      <th>Height</th>\n",
       "      <th>Weight</th>\n",
       "    </tr>\n",
       "  </thead>\n",
       "  <tbody>\n",
       "    <tr>\n",
       "      <th>0</th>\n",
       "      <td>0</td>\n",
       "      <td>174</td>\n",
       "      <td>96</td>\n",
       "    </tr>\n",
       "    <tr>\n",
       "      <th>1</th>\n",
       "      <td>0</td>\n",
       "      <td>189</td>\n",
       "      <td>87</td>\n",
       "    </tr>\n",
       "    <tr>\n",
       "      <th>2</th>\n",
       "      <td>1</td>\n",
       "      <td>185</td>\n",
       "      <td>110</td>\n",
       "    </tr>\n",
       "    <tr>\n",
       "      <th>3</th>\n",
       "      <td>1</td>\n",
       "      <td>195</td>\n",
       "      <td>104</td>\n",
       "    </tr>\n",
       "    <tr>\n",
       "      <th>4</th>\n",
       "      <td>0</td>\n",
       "      <td>149</td>\n",
       "      <td>61</td>\n",
       "    </tr>\n",
       "  </tbody>\n",
       "</table>\n",
       "</div>"
      ],
      "text/plain": [
       "   Gender  Height  Weight\n",
       "0       0     174      96\n",
       "1       0     189      87\n",
       "2       1     185     110\n",
       "3       1     195     104\n",
       "4       0     149      61"
      ]
     },
     "execution_count": 19,
     "metadata": {},
     "output_type": "execute_result"
    }
   ],
   "source": [
    "x.head()"
   ]
  },
  {
   "cell_type": "code",
   "execution_count": 20,
   "id": "separate-personal",
   "metadata": {},
   "outputs": [],
   "source": [
    "y=dat.Index"
   ]
  },
  {
   "cell_type": "code",
   "execution_count": 21,
   "id": "everyday-placement",
   "metadata": {},
   "outputs": [
    {
     "data": {
      "text/plain": [
       "0    4\n",
       "1    2\n",
       "2    4\n",
       "3    3\n",
       "4    3\n",
       "Name: Index, dtype: int64"
      ]
     },
     "execution_count": 21,
     "metadata": {},
     "output_type": "execute_result"
    }
   ],
   "source": [
    "y.head()"
   ]
  },
  {
   "cell_type": "code",
   "execution_count": 22,
   "id": "interested-registrar",
   "metadata": {},
   "outputs": [],
   "source": [
    "from sklearn.model_selection import train_test_split"
   ]
  },
  {
   "cell_type": "code",
   "execution_count": 23,
   "id": "talented-banner",
   "metadata": {},
   "outputs": [],
   "source": [
    "x_tr,x_te,y_tr,y_te=train_test_split(x,y,test_size=0.3)"
   ]
  },
  {
   "cell_type": "code",
   "execution_count": 24,
   "id": "naughty-ocean",
   "metadata": {},
   "outputs": [],
   "source": [
    "clf = tree.DecisionTreeClassifier()"
   ]
  },
  {
   "cell_type": "code",
   "execution_count": 25,
   "id": "according-contribution",
   "metadata": {},
   "outputs": [
    {
     "data": {
      "text/plain": [
       "DecisionTreeClassifier()"
      ]
     },
     "execution_count": 25,
     "metadata": {},
     "output_type": "execute_result"
    }
   ],
   "source": [
    "clf.fit(x_tr,y_tr)"
   ]
  },
  {
   "cell_type": "code",
   "execution_count": 26,
   "id": "polar-incentive",
   "metadata": {},
   "outputs": [],
   "source": [
    "model_pre=clf.predict(x_te)"
   ]
  },
  {
   "cell_type": "code",
   "execution_count": 27,
   "id": "amateur-infrastructure",
   "metadata": {},
   "outputs": [
    {
     "data": {
      "text/plain": [
       "115    3\n",
       "252    5\n",
       "160    2\n",
       "347    2\n",
       "236    5\n",
       "Name: Index, dtype: int64"
      ]
     },
     "execution_count": 27,
     "metadata": {},
     "output_type": "execute_result"
    }
   ],
   "source": [
    "y_te.head()"
   ]
  },
  {
   "cell_type": "code",
   "execution_count": 28,
   "id": "enclosed-crest",
   "metadata": {},
   "outputs": [
    {
     "data": {
      "text/plain": [
       "array([2, 5, 2, 2, 5])"
      ]
     },
     "execution_count": 28,
     "metadata": {},
     "output_type": "execute_result"
    }
   ],
   "source": [
    "model_pre[:5]"
   ]
  },
  {
   "cell_type": "code",
   "execution_count": 29,
   "id": "specified-league",
   "metadata": {},
   "outputs": [
    {
     "data": {
      "text/plain": [
       "0.8"
      ]
     },
     "execution_count": 29,
     "metadata": {},
     "output_type": "execute_result"
    }
   ],
   "source": [
    "accuracy_score(y_te,model_pre)"
   ]
  },
  {
   "cell_type": "code",
   "execution_count": 30,
   "id": "incorporate-poverty",
   "metadata": {},
   "outputs": [
    {
     "data": {
      "image/png": "[encoded data removed]",
      "text/plain": [
       "<Figure size 1800x1440 with 1 Axes>"
      ]
     },
     "metadata": {
      "needs_background": "light"
     },
     "output_type": "display_data"
    }
   ],
   "source": [
    "fig=plt.figure(figsize=(25,20))\n",
    "_ =tree.plot_tree(clf) "
   ]
  },
  {
   "cell_type": "code",
   "execution_count": 31,
   "id": "threaded-business",
   "metadata": {},
   "outputs": [],
   "source": [
    "fig.savefig(\"a.png\")"
   ]
  },
  {
   "cell_type": "code",
   "execution_count": 32,
   "id": "wanted-jaguar",
   "metadata": {},
   "outputs": [],
   "source": [
    "rep = tree.export_text(clf)"
   ]
  },
  {
   "cell_type": "code",
   "execution_count": 33,
   "id": "excellent-academy",
   "metadata": {},
   "outputs": [
    {
     "name": "stdout",
     "output_type": "stream",
     "text": [
      "|--- feature_2 <= 122.50\n",
      "|   |--- feature_2 <= 83.50\n",
      "|   |   |--- feature_1 <= 164.50\n",
      "|   |   |   |--- feature_2 <= 60.50\n",
      "|   |   |   |   |--- feature_1 <= 162.50\n",
      "|   |   |   |   |   |--- class: 2\n",
      "|   |   |   |   |--- feature_1 >  162.50\n",
      "|   |   |   |   |   |--- class: 0\n",
      "|   |   |   |--- feature_2 >  60.50\n",
      "|   |   |   |   |--- feature_1 <= 160.50\n",
      "|   |   |   |   |   |--- feature_2 <= 65.00\n",
      "|   |   |   |   |   |   |--- class: 3\n",
      "|   |   |   |   |   |--- feature_2 >  65.00\n",
      "|   |   |   |   |   |   |--- feature_1 <= 141.50\n",
      "|   |   |   |   |   |   |   |--- class: 5\n",
      "|   |   |   |   |   |   |--- feature_1 >  141.50\n",
      "|   |   |   |   |   |   |   |--- feature_1 <= 150.50\n",
      "|   |   |   |   |   |   |   |   |--- class: 4\n",
      "|   |   |   |   |   |   |   |--- feature_1 >  150.50\n",
      "|   |   |   |   |   |   |   |   |--- feature_2 <= 72.00\n",
      "|   |   |   |   |   |   |   |   |   |--- class: 3\n",
      "|   |   |   |   |   |   |   |   |--- feature_2 >  72.00\n",
      "|   |   |   |   |   |   |   |   |   |--- feature_1 <= 153.50\n",
      "|   |   |   |   |   |   |   |   |   |   |--- feature_1 <= 152.00\n",
      "|   |   |   |   |   |   |   |   |   |   |   |--- class: 4\n",
      "|   |   |   |   |   |   |   |   |   |   |--- feature_1 >  152.00\n",
      "|   |   |   |   |   |   |   |   |   |   |   |--- class: 2\n",
      "|   |   |   |   |   |   |   |   |   |--- feature_1 >  153.50\n",
      "|   |   |   |   |   |   |   |   |   |   |--- class: 4\n",
      "|   |   |   |   |--- feature_1 >  160.50\n",
      "|   |   |   |   |   |--- feature_2 <= 66.00\n",
      "|   |   |   |   |   |   |--- class: 2\n",
      "|   |   |   |   |   |--- feature_2 >  66.00\n",
      "|   |   |   |   |   |   |--- class: 3\n",
      "|   |   |--- feature_1 >  164.50\n",
      "|   |   |   |--- feature_2 <= 63.00\n",
      "|   |   |   |   |--- feature_2 <= 55.00\n",
      "|   |   |   |   |   |--- feature_1 <= 179.50\n",
      "|   |   |   |   |   |   |--- feature_0 <= 0.50\n",
      "|   |   |   |   |   |   |   |--- class: 1\n",
      "|   |   |   |   |   |   |--- feature_0 >  0.50\n",
      "|   |   |   |   |   |   |   |--- feature_1 <= 172.50\n",
      "|   |   |   |   |   |   |   |   |--- class: 2\n",
      "|   |   |   |   |   |   |   |--- feature_1 >  172.50\n",
      "|   |   |   |   |   |   |   |   |--- class: 1\n",
      "|   |   |   |   |   |--- feature_1 >  179.50\n",
      "|   |   |   |   |   |   |--- class: 0\n",
      "|   |   |   |   |--- feature_2 >  55.00\n",
      "|   |   |   |   |   |--- feature_1 <= 178.00\n",
      "|   |   |   |   |   |   |--- class: 2\n",
      "|   |   |   |   |   |--- feature_1 >  178.00\n",
      "|   |   |   |   |   |   |--- feature_0 <= 0.50\n",
      "|   |   |   |   |   |   |   |--- class: 1\n",
      "|   |   |   |   |   |   |--- feature_0 >  0.50\n",
      "|   |   |   |   |   |   |   |--- feature_2 <= 59.50\n",
      "|   |   |   |   |   |   |   |   |--- class: 1\n",
      "|   |   |   |   |   |   |   |--- feature_2 >  59.50\n",
      "|   |   |   |   |   |   |   |   |--- feature_2 <= 60.50\n",
      "|   |   |   |   |   |   |   |   |   |--- class: 2\n",
      "|   |   |   |   |   |   |   |   |--- feature_2 >  60.50\n",
      "|   |   |   |   |   |   |   |   |   |--- class: 1\n",
      "|   |   |   |--- feature_2 >  63.00\n",
      "|   |   |   |   |--- feature_1 <= 192.00\n",
      "|   |   |   |   |   |--- feature_1 <= 177.50\n",
      "|   |   |   |   |   |   |--- feature_2 <= 69.00\n",
      "|   |   |   |   |   |   |   |--- class: 2\n",
      "|   |   |   |   |   |   |--- feature_2 >  69.00\n",
      "|   |   |   |   |   |   |   |--- feature_2 <= 76.00\n",
      "|   |   |   |   |   |   |   |   |--- class: 3\n",
      "|   |   |   |   |   |   |   |--- feature_2 >  76.00\n",
      "|   |   |   |   |   |   |   |   |--- feature_1 <= 176.50\n",
      "|   |   |   |   |   |   |   |   |   |--- class: 2\n",
      "|   |   |   |   |   |   |   |   |--- feature_1 >  176.50\n",
      "|   |   |   |   |   |   |   |   |   |--- class: 3\n",
      "|   |   |   |   |   |--- feature_1 >  177.50\n",
      "|   |   |   |   |   |   |--- feature_2 <= 66.50\n",
      "|   |   |   |   |   |   |   |--- feature_0 <= 0.50\n",
      "|   |   |   |   |   |   |   |   |--- class: 1\n",
      "|   |   |   |   |   |   |   |--- feature_0 >  0.50\n",
      "|   |   |   |   |   |   |   |   |--- class: 2\n",
      "|   |   |   |   |   |   |--- feature_2 >  66.50\n",
      "|   |   |   |   |   |   |   |--- class: 2\n",
      "|   |   |   |   |--- feature_1 >  192.00\n",
      "|   |   |   |   |   |--- feature_2 <= 75.00\n",
      "|   |   |   |   |   |   |--- class: 1\n",
      "|   |   |   |   |   |--- feature_2 >  75.00\n",
      "|   |   |   |   |   |   |--- class: 2\n",
      "|   |--- feature_2 >  83.50\n",
      "|   |   |--- feature_1 <= 160.50\n",
      "|   |   |   |--- feature_2 <= 96.50\n",
      "|   |   |   |   |--- feature_1 <= 145.00\n",
      "|   |   |   |   |   |--- class: 5\n",
      "|   |   |   |   |--- feature_1 >  145.00\n",
      "|   |   |   |   |   |--- feature_2 <= 93.00\n",
      "|   |   |   |   |   |   |--- class: 4\n",
      "|   |   |   |   |   |--- feature_2 >  93.00\n",
      "|   |   |   |   |   |   |--- feature_1 <= 156.00\n",
      "|   |   |   |   |   |   |   |--- class: 5\n",
      "|   |   |   |   |   |   |--- feature_1 >  156.00\n",
      "|   |   |   |   |   |   |   |--- class: 4\n",
      "|   |   |   |--- feature_2 >  96.50\n",
      "|   |   |   |   |--- class: 5\n",
      "|   |   |--- feature_1 >  160.50\n",
      "|   |   |   |--- feature_1 <= 181.50\n",
      "|   |   |   |   |--- feature_2 <= 94.00\n",
      "|   |   |   |   |   |--- feature_1 <= 173.00\n",
      "|   |   |   |   |   |   |--- feature_1 <= 168.50\n",
      "|   |   |   |   |   |   |   |--- class: 4\n",
      "|   |   |   |   |   |   |--- feature_1 >  168.50\n",
      "|   |   |   |   |   |   |   |--- feature_1 <= 170.50\n",
      "|   |   |   |   |   |   |   |   |--- class: 2\n",
      "|   |   |   |   |   |   |   |--- feature_1 >  170.50\n",
      "|   |   |   |   |   |   |   |   |--- class: 4\n",
      "|   |   |   |   |   |--- feature_1 >  173.00\n",
      "|   |   |   |   |   |   |--- class: 3\n",
      "|   |   |   |   |--- feature_2 >  94.00\n",
      "|   |   |   |   |   |--- feature_1 <= 164.00\n",
      "|   |   |   |   |   |   |--- feature_2 <= 106.50\n",
      "|   |   |   |   |   |   |   |--- class: 4\n",
      "|   |   |   |   |   |   |--- feature_2 >  106.50\n",
      "|   |   |   |   |   |   |   |--- class: 5\n",
      "|   |   |   |   |   |--- feature_1 >  164.00\n",
      "|   |   |   |   |   |   |--- feature_2 <= 120.50\n",
      "|   |   |   |   |   |   |   |--- class: 4\n",
      "|   |   |   |   |   |   |--- feature_2 >  120.50\n",
      "|   |   |   |   |   |   |   |--- feature_1 <= 172.50\n",
      "|   |   |   |   |   |   |   |   |--- class: 5\n",
      "|   |   |   |   |   |   |   |--- feature_1 >  172.50\n",
      "|   |   |   |   |   |   |   |   |--- class: 4\n",
      "|   |   |   |--- feature_1 >  181.50\n",
      "|   |   |   |   |--- feature_2 <= 114.50\n",
      "|   |   |   |   |   |--- feature_2 <= 88.50\n",
      "|   |   |   |   |   |   |--- feature_2 <= 86.50\n",
      "|   |   |   |   |   |   |   |--- class: 3\n",
      "|   |   |   |   |   |   |--- feature_2 >  86.50\n",
      "|   |   |   |   |   |   |   |--- class: 2\n",
      "|   |   |   |   |   |--- feature_2 >  88.50\n",
      "|   |   |   |   |   |   |--- feature_1 <= 198.50\n",
      "|   |   |   |   |   |   |   |--- feature_1 <= 182.50\n",
      "|   |   |   |   |   |   |   |   |--- feature_2 <= 103.00\n",
      "|   |   |   |   |   |   |   |   |   |--- class: 3\n",
      "|   |   |   |   |   |   |   |   |--- feature_2 >  103.00\n",
      "|   |   |   |   |   |   |   |   |   |--- class: 4\n",
      "|   |   |   |   |   |   |   |--- feature_1 >  182.50\n",
      "|   |   |   |   |   |   |   |   |--- class: 3\n",
      "|   |   |   |   |   |   |--- feature_1 >  198.50\n",
      "|   |   |   |   |   |   |   |--- class: 2\n",
      "|   |   |   |   |--- feature_2 >  114.50\n",
      "|   |   |   |   |   |--- class: 4\n",
      "|--- feature_2 >  122.50\n",
      "|   |--- feature_1 <= 185.50\n",
      "|   |   |--- feature_2 <= 131.50\n",
      "|   |   |   |--- feature_1 <= 175.00\n",
      "|   |   |   |   |--- class: 5\n",
      "|   |   |   |--- feature_1 >  175.00\n",
      "|   |   |   |   |--- class: 4\n",
      "|   |   |--- feature_2 >  131.50\n",
      "|   |   |   |--- class: 5\n",
      "|   |--- feature_1 >  185.50\n",
      "|   |   |--- feature_2 <= 139.00\n",
      "|   |   |   |--- class: 4\n",
      "|   |   |--- feature_2 >  139.00\n",
      "|   |   |   |--- feature_1 <= 196.50\n",
      "|   |   |   |   |--- feature_0 <= 0.50\n",
      "|   |   |   |   |   |--- class: 5\n",
      "|   |   |   |   |--- feature_0 >  0.50\n",
      "|   |   |   |   |   |--- feature_2 <= 146.50\n",
      "|   |   |   |   |   |   |--- class: 5\n",
      "|   |   |   |   |   |--- feature_2 >  146.50\n",
      "|   |   |   |   |   |   |--- feature_2 <= 152.00\n",
      "|   |   |   |   |   |   |   |--- class: 4\n",
      "|   |   |   |   |   |   |--- feature_2 >  152.00\n",
      "|   |   |   |   |   |   |   |--- class: 5\n",
      "|   |   |   |--- feature_1 >  196.50\n",
      "|   |   |   |   |--- class: 4\n",
      "\n"
     ]
    }
   ],
   "source": [
    "print(rep)"
   ]
  },
  {
   "cell_type": "code",
   "execution_count": 34,
   "id": "single-reason",
   "metadata": {},
   "outputs": [
    {
     "data": {
      "text/plain": [
       "'Feature 0 : gender\\nFeature 1 : heaight\\nFeature 2 : Weight'"
      ]
     },
     "execution_count": 34,
     "metadata": {},
     "output_type": "execute_result"
    }
   ],
   "source": [
    "'''Feature 0 : gender\n",
    "Feature 1 : heaight\n",
    "Feature 2 : Weight'''"
   ]
  },
  {
   "cell_type": "code",
   "execution_count": null,
   "id": "adult-parts",
   "metadata": {},
   "outputs": [],
   "source": []
  }
 ],
 "metadata": {
  "kernelspec": {
   "display_name": "Python 3",
   "language": "python",
   "name": "python3"
  },
  "language_info": {
   "codemirror_mode": {
    "name": "ipython",
    "version": 3
   },
   "file_extension": ".py",
   "mimetype": "text/x-python",
   "name": "python",
   "nbconvert_exporter": "python",
   "pygments_lexer": "ipython3",
   "version": "3.8.5"
  }
 },
 "nbformat": 4,
 "nbformat_minor": 5
}
